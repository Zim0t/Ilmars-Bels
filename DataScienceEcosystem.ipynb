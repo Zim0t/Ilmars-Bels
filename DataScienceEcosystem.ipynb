{
 "cells": [
  {
   "cell_type": "markdown",
   "id": "fdebfff5-8d9c-41df-98f6-6fa87678aa82",
   "metadata": {},
   "source": [
    "## Author\r\n",
    "\r\n",
    "Ilmars Bels\r\n"
   ]
  },
  {
   "cell_type": "code",
   "execution_count": null,
   "id": "a6bf67a1-e9f4-45b6-bce4-2d7431259c52",
   "metadata": {},
   "outputs": [],
   "source": [
    "#In this notebook, Data Science Tools and Ecosystem are summarized."
   ]
  },
  {
   "cell_type": "markdown",
   "id": "2e598d0a-2307-416d-a281-a27b38b4f14f",
   "metadata": {},
   "source": [
    "**Objectives:** \n",
    "- Commonly used languages for data science in Jupyter Notebooks\n",
    "- Some of the commonly used libraries used by Data Scientists include\n",
    "- Data Science Toolsprint"
   ]
  },
  {
   "cell_type": "code",
   "execution_count": 35,
   "id": "537f7c80-0c4d-4c12-9902-d8cdad22a625",
   "metadata": {},
   "outputs": [
    {
     "name": "stdout",
     "output_type": "stream",
     "text": [
      "Commonly used languages for data science in Jupyter Notebooks:\n",
      "1. Python \n",
      "2. R \n",
      "3. SQL\n"
     ]
    }
   ],
   "source": [
    "# Commonly used languages for data science in Jupyter Notebooks\n",
    "\n",
    "languages = [\n",
    "    \"Python \",\n",
    "    \"R \",\n",
    "    \"SQL\"]\n",
    "\n",
    "print(\"Commonly used languages for data science in Jupyter Notebooks:\")\n",
    "\n",
    "for i, language in enumerate(languages):\n",
    "    print(f\"{i+}. {language}\")\n",
    "\n",
    "\n"
   ]
  },
  {
   "cell_type": "code",
   "execution_count": 67,
   "id": "c13298d9-b3bd-491d-8a5c-e1a9fbf5a302",
   "metadata": {},
   "outputs": [
    {
     "name": "stdout",
     "output_type": "stream",
     "text": [
      "Some of the commonly used libraries used by Data Scientists include:\n",
      "['NumPy ', 'Pandas ', 'Scikit-learn']\n"
     ]
    }
   ],
   "source": [
    "#\"Some of the commonly used libraries used by Data Scientists include:\"\n",
    "print(\"Some of the commonly used libraries used by Data Scientists include:\") \n",
    "libraries = [\n",
    "    \"NumPy \",\n",
    "    \"Pandas \",\n",
    "    \"Scikit-learn\"]\n",
    "print(libraries)\n"
   ]
  },
  {
   "cell_type": "code",
   "execution_count": 77,
   "id": "fb013c9c-92c2-4e1c-befb-fd4e67fb775f",
   "metadata": {},
   "outputs": [
    {
     "name": "stdout",
     "output_type": "stream",
     "text": [
      " Data Science Tools: \n",
      " Jupyter Notebook \n",
      " RStudio \n",
      " Visual Studio Code \n"
     ]
    }
   ],
   "source": [
    "# Data Science Toolsprint(\"| Data Science Tools |\")\n",
    "print(\" Data Science Tools: \")\n",
    "print(\" Jupyter Notebook \")\n",
    "print(\" RStudio \")\n",
    "print(\" Visual Studio Code \")\n"
   ]
  },
  {
   "cell_type": "markdown",
   "id": "ba7b3154-f82e-4306-9fdd-57f71037e867",
   "metadata": {},
   "source": [
    "###Below are a few examples of evaluating arithmetic expressions in Python"
   ]
  },
  {
   "cell_type": "code",
   "execution_count": 80,
   "id": "2aaa33f3-4d3a-40a9-bf9e-fe4b758baf95",
   "metadata": {},
   "outputs": [
    {
     "data": {
      "text/plain": [
       "17"
      ]
     },
     "execution_count": 80,
     "metadata": {},
     "output_type": "execute_result"
    }
   ],
   "source": [
    "#This a simple arithmetic expression to mutiply then add integers\n",
    "(3*4)+5"
   ]
  },
  {
   "cell_type": "code",
   "execution_count": 82,
   "id": "40fb5aed-1a1e-46f9-b8b0-b4f4d4e59c93",
   "metadata": {},
   "outputs": [
    {
     "name": "stdout",
     "output_type": "stream",
     "text": [
      "200 minutes is equal to 3 hours.\n"
     ]
    }
   ],
   "source": [
    "# Convert minutes to hours using integer division\n",
    "hours = 200 // 60\n",
    "\n",
    "print(f\"{200} minutes is equal to {hours} hours.\")\n"
   ]
  }
 ],
 "metadata": {
  "kernelspec": {
   "display_name": "Python 3 (ipykernel)",
   "language": "python",
   "name": "python3"
  },
  "language_info": {
   "codemirror_mode": {
    "name": "ipython",
    "version": 3
   },
   "file_extension": ".py",
   "mimetype": "text/x-python",
   "name": "python",
   "nbconvert_exporter": "python",
   "pygments_lexer": "ipython3",
   "version": "3.12.4"
  }
 },
 "nbformat": 4,
 "nbformat_minor": 5
}
